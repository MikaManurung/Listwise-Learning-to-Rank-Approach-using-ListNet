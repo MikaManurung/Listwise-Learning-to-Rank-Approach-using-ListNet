{
  "nbformat": 4,
  "nbformat_minor": 0,
  "metadata": {
    "colab": {
      "name": "main.ipynb",
      "provenance": []
    },
    "kernelspec": {
      "name": "python3",
      "display_name": "Python 3"
    },
    "language_info": {
      "name": "python"
    }
  },
  "cells": [
    {
      "cell_type": "code",
      "metadata": {
        "colab": {
          "base_uri": "https://localhost:8080/"
        },
        "id": "dJKAsj60mtEB",
        "outputId": "9d15c1a0-e9db-4bab-e162-ed0f31a0e841"
      },
      "source": [
        "from google.colab import drive\n",
        "drive.mount('/content/drive', force_remount=True)"
      ],
      "execution_count": 2,
      "outputs": [
        {
          "output_type": "stream",
          "text": [
            "Mounted at /content/drive\n"
          ],
          "name": "stdout"
        }
      ]
    },
    {
      "cell_type": "markdown",
      "metadata": {
        "id": "SLaR0mXannGq"
      },
      "source": [
        "**Test Fold 1**"
      ]
    },
    {
      "cell_type": "code",
      "metadata": {
        "colab": {
          "base_uri": "https://localhost:8080/"
        },
        "id": "saRa1lHUnpml",
        "outputId": "096ddb87-1069-4ea9-a420-bfb060f4182e"
      },
      "source": [
        "# Load dataset Fold 1 dan transformasi data\n",
        "!sh /content/drive/MyDrive/ColabNotebooks/stbi/proyek/dataset/dataset-fold1.sh"
      ],
      "execution_count": 3,
      "outputs": [
        {
          "output_type": "stream",
          "text": [
            "Downloading data.\n",
            "--2021-05-19 17:13:12--  http://www.bigdatalab.ac.cn/benchmark/upload/download_source/edb7cbe2-9d73-11e4-aa78-bcaec51b9163_MQ2008.rar\n",
            "Resolving www.bigdatalab.ac.cn (www.bigdatalab.ac.cn)... 159.226.40.238\n",
            "Connecting to www.bigdatalab.ac.cn (www.bigdatalab.ac.cn)|159.226.40.238|:80... connected.\n",
            "HTTP request sent, awaiting response... 200 OK\n",
            "Length: 15476826 (15M) [application/x-rar-compressed]\n",
            "Saving to: ‘edb7cbe2-9d73-11e4-aa78-bcaec51b9163_MQ2008.rar’\n",
            "\n",
            "edb7cbe2-9d73-11e4- 100%[===================>]  14.76M   322KB/s    in 50s     \n",
            "\n",
            "2021-05-19 17:14:03 (299 KB/s) - ‘edb7cbe2-9d73-11e4-aa78-bcaec51b9163_MQ2008.rar’ saved [15476826/15476826]\n",
            "\n",
            "\n",
            "UNRAR 5.50 freeware      Copyright (c) 1993-2017 Alexander Roshal\n",
            "\n",
            "\n",
            "Extracting from edb7cbe2-9d73-11e4-aa78-bcaec51b9163_MQ2008.rar\n",
            "\n",
            "Creating    MQ2008                                                    OK\n",
            "Creating    MQ2008/MQ2008                                             OK\n",
            "Creating    MQ2008/MQ2008/Fold1                                       OK\n",
            "Extracting  MQ2008/MQ2008/Fold1/test.txt                                 \b\b\b\b  0%\b\b\b\b  1%\b\b\b\b  2%\b\b\b\b\b  OK \n",
            "Extracting  MQ2008/MQ2008/Fold1/train.txt                                \b\b\b\b  2%\b\b\b\b  3%\b\b\b\b  4%\b\b\b\b  5%\b\b\b\b  6%\b\b\b\b  7%\b\b\b\b  8%\b\b\b\b\b  OK \n",
            "Extracting  MQ2008/MQ2008/Fold1/vali.txt                                 \b\b\b\b  9%\b\b\b\b 10%\b\b\b\b\b  OK \n",
            "Creating    MQ2008/MQ2008/Fold2                                       OK\n",
            "Extracting  MQ2008/MQ2008/Fold2/test.txt                                 \b\b\b\b 10%\b\b\b\b 11%\b\b\b\b 12%\b\b\b\b\b  OK \n",
            "Extracting  MQ2008/MQ2008/Fold2/train.txt                                \b\b\b\b 12%\b\b\b\b 13%\b\b\b\b 14%\b\b\b\b 15%\b\b\b\b 16%\b\b\b\b 17%\b\b\b\b 18%\b\b\b\b 19%\b\b\b\b\b  OK \n",
            "Extracting  MQ2008/MQ2008/Fold2/vali.txt                                 \b\b\b\b 19%\b\b\b\b 20%\b\b\b\b 21%\b\b\b\b\b  OK \n",
            "Creating    MQ2008/MQ2008/Fold3                                       OK\n",
            "Extracting  MQ2008/MQ2008/Fold3/test.txt                                 \b\b\b\b 21%\b\b\b\b 22%\b\b\b\b 23%\b\b\b\b\b  OK \n",
            "Extracting  MQ2008/MQ2008/Fold3/train.txt                                \b\b\b\b 24%\b\b\b\b 25%\b\b\b\b 26%\b\b\b\b 27%\b\b\b\b 28%\b\b\b\b 29%\b\b\b\b 30%\b\b\b\b\b  OK \n",
            "Extracting  MQ2008/MQ2008/Fold3/vali.txt                                 \b\b\b\b 30%\b\b\b\b 31%\b\b\b\b 32%\b\b\b\b\b  OK \n",
            "Creating    MQ2008/MQ2008/Fold4                                       OK\n",
            "Extracting  MQ2008/MQ2008/Fold4/test.txt                                 \b\b\b\b 32%\b\b\b\b 33%\b\b\b\b 34%\b\b\b\b\b  OK \n",
            "Extracting  MQ2008/MQ2008/Fold4/train.txt                                \b\b\b\b 34%\b\b\b\b 35%\b\b\b\b 36%\b\b\b\b 37%\b\b\b\b 38%\b\b\b\b 39%\b\b\b\b 40%\b\b\b\b\b  OK \n",
            "Extracting  MQ2008/MQ2008/Fold4/vali.txt                                 \b\b\b\b 40%\b\b\b\b 41%\b\b\b\b 42%\b\b\b\b\b  OK \n",
            "Creating    MQ2008/MQ2008/Fold5                                       OK\n",
            "Extracting  MQ2008/MQ2008/Fold5/test.txt                                 \b\b\b\b 43%\b\b\b\b 44%\b\b\b\b\b  OK \n",
            "Extracting  MQ2008/MQ2008/Fold5/train.txt                                \b\b\b\b 44%\b\b\b\b 45%\b\b\b\b 46%\b\b\b\b 47%\b\b\b\b 48%\b\b\b\b 49%\b\b\b\b 50%\b\b\b\b 51%\b\b\b\b\b  OK \n",
            "Extracting  MQ2008/MQ2008/Fold5/vali.txt                                 \b\b\b\b 51%\b\b\b\b 52%\b\b\b\b 53%\b\b\b\b\b  OK \n",
            "Extracting  MQ2008/MQ2008/min.txt                                        \b\b\b\b 53%\b\b\b\b 54%\b\b\b\b 55%\b\b\b\b 56%\b\b\b\b 57%\b\b\b\b 58%\b\b\b\b 59%\b\b\b\b 60%\b\b\b\b 61%\b\b\b\b 62%\b\b\b\b 63%\b\b\b\b 64%\b\b\b\b 65%\b\b\b\b 66%\b\b\b\b\b  OK \n",
            "Extracting  MQ2008/MQ2008/NULL.txt                                       \b\b\b\b 66%\b\b\b\b 67%\b\b\b\b 68%\b\b\b\b 69%\b\b\b\b 70%\b\b\b\b 71%\b\b\b\b 72%\b\b\b\b 73%\b\b\b\b 74%\b\b\b\b 75%\b\b\b\b 76%\b\b\b\b 77%\b\b\b\b 78%\b\b\b\b\b  OK \n",
            "Extracting  MQ2008/MQ2008/Querylevelnorm.txt                             \b\b\b\b 78%\b\b\b\b 79%\b\b\b\b 80%\b\b\b\b 81%\b\b\b\b 82%\b\b\b\b 83%\b\b\b\b 84%\b\b\b\b 85%\b\b\b\b 86%\b\b\b\b 87%\b\b\b\b 88%\b\b\b\b 89%\b\b\b\b\b  OK \n",
            "Extracting  MQ2008/MQ2008/readme.txt                                     \b\b\b\b 89%\b\b\b\b\b  OK \n",
            "Extracting  MQ2008/MQ2008/S1.txt                                         \b\b\b\b 89%\b\b\b\b 90%\b\b\b\b 91%\b\b\b\b\b  OK \n",
            "Extracting  MQ2008/MQ2008/S2.txt                                         \b\b\b\b 91%\b\b\b\b 92%\b\b\b\b 93%\b\b\b\b\b  OK \n",
            "Extracting  MQ2008/MQ2008/S3.txt                                         \b\b\b\b 94%\b\b\b\b 95%\b\b\b\b 96%\b\b\b\b\b  OK \n",
            "Extracting  MQ2008/MQ2008/S4.txt                                         \b\b\b\b 96%\b\b\b\b 97%\b\b\b\b\b  OK \n",
            "Extracting  MQ2008/MQ2008/S5.txt                                         \b\b\b\b 98%\b\b\b\b 99%\b\b\b\b\b  OK \n",
            "All OK\n"
          ],
          "name": "stdout"
        }
      ]
    },
    {
      "cell_type": "code",
      "metadata": {
        "colab": {
          "base_uri": "https://localhost:8080/"
        },
        "id": "7SddYCHgn2Xl",
        "outputId": "8d95c0da-a5ba-42f5-df71-91560a4d688c"
      },
      "source": [
        "# Ranking dengan LGBMRanker\n",
        "!python \"/content/drive/MyDrive/ColabNotebooks/stbi/proyek/rank_sklearn.py\""
      ],
      "execution_count": 4,
      "outputs": [
        {
          "output_type": "stream",
          "text": [
            "[LightGBM] [Warning] min_sum_hessian_in_leaf is set=100, min_child_weight=0.001 will be ignored. Current value: min_sum_hessian_in_leaf=100\n",
            "[LightGBM] [Warning] min_data_in_leaf is set=1, min_child_samples=20 will be ignored. Current value: min_data_in_leaf=1\n",
            "Training until validation scores don't improve for 50 rounds.\n",
            "[10]\tvalid_0's ndcg@1: 0.639066\tvalid_0's ndcg@3: 0.685035\tvalid_0's ndcg@5: 0.731237\tvalid_0's ndcg@10: 0.772316\n",
            "[20]\tvalid_0's ndcg@1: 0.66242\tvalid_0's ndcg@3: 0.687815\tvalid_0's ndcg@5: 0.736034\tvalid_0's ndcg@10: 0.778568\n",
            "[30]\tvalid_0's ndcg@1: 0.641189\tvalid_0's ndcg@3: 0.687916\tvalid_0's ndcg@5: 0.737193\tvalid_0's ndcg@10: 0.778586\n",
            "[40]\tvalid_0's ndcg@1: 0.653928\tvalid_0's ndcg@3: 0.699174\tvalid_0's ndcg@5: 0.738383\tvalid_0's ndcg@10: 0.777774\n",
            "[50]\tvalid_0's ndcg@1: 0.63482\tvalid_0's ndcg@3: 0.695243\tvalid_0's ndcg@5: 0.730583\tvalid_0's ndcg@10: 0.772476\n",
            "[60]\tvalid_0's ndcg@1: 0.62845\tvalid_0's ndcg@3: 0.682487\tvalid_0's ndcg@5: 0.726568\tvalid_0's ndcg@10: 0.766114\n",
            "[70]\tvalid_0's ndcg@1: 0.617834\tvalid_0's ndcg@3: 0.670794\tvalid_0's ndcg@5: 0.716914\tvalid_0's ndcg@10: 0.763516\n",
            "[80]\tvalid_0's ndcg@1: 0.617834\tvalid_0's ndcg@3: 0.672656\tvalid_0's ndcg@5: 0.717727\tvalid_0's ndcg@10: 0.763962\n",
            "Early stopping, best iteration is:\n",
            "[36]\tvalid_0's ndcg@1: 0.664544\tvalid_0's ndcg@3: 0.702462\tvalid_0's ndcg@5: 0.742164\tvalid_0's ndcg@10: 0.782247\n"
          ],
          "name": "stdout"
        }
      ]
    },
    {
      "cell_type": "markdown",
      "metadata": {
        "id": "4QpKIbd-6T0l"
      },
      "source": [
        "**Test Fold 2**"
      ]
    },
    {
      "cell_type": "code",
      "metadata": {
        "colab": {
          "base_uri": "https://localhost:8080/"
        },
        "id": "5rQatveefvm9",
        "outputId": "5bbf1dfb-1177-4bb8-a6c7-2e5340c1de11"
      },
      "source": [
        "# Load dataset Fold 2 dan transformasi data\n",
        "!sh /content/drive/MyDrive/ColabNotebooks/stbi/proyek/dataset/dataset-fold2.sh"
      ],
      "execution_count": 2,
      "outputs": [
        {
          "output_type": "stream",
          "text": [
            "Downloading data.\n",
            "--2021-05-19 16:10:57--  http://www.bigdatalab.ac.cn/benchmark/upload/download_source/edb7cbe2-9d73-11e4-aa78-bcaec51b9163_MQ2008.rar\n",
            "Resolving www.bigdatalab.ac.cn (www.bigdatalab.ac.cn)... 159.226.40.238\n",
            "Connecting to www.bigdatalab.ac.cn (www.bigdatalab.ac.cn)|159.226.40.238|:80... connected.\n",
            "HTTP request sent, awaiting response... 200 OK\n",
            "Length: 15476826 (15M) [application/x-rar-compressed]\n",
            "Saving to: ‘edb7cbe2-9d73-11e4-aa78-bcaec51b9163_MQ2008.rar’\n",
            "\n",
            "edb7cbe2-9d73-11e4- 100%[===================>]  14.76M   274KB/s    in 56s     \n",
            "\n",
            "2021-05-19 16:11:54 (269 KB/s) - ‘edb7cbe2-9d73-11e4-aa78-bcaec51b9163_MQ2008.rar’ saved [15476826/15476826]\n",
            "\n",
            "\n",
            "UNRAR 5.50 freeware      Copyright (c) 1993-2017 Alexander Roshal\n",
            "\n",
            "\n",
            "Extracting from edb7cbe2-9d73-11e4-aa78-bcaec51b9163_MQ2008.rar\n",
            "\n",
            "Creating    MQ2008                                                    OK\n",
            "Creating    MQ2008/MQ2008                                             OK\n",
            "Creating    MQ2008/MQ2008/Fold1                                       OK\n",
            "Extracting  MQ2008/MQ2008/Fold1/test.txt                                 \b\b\b\b  0%\b\b\b\b  1%\b\b\b\b  2%\b\b\b\b\b  OK \n",
            "Extracting  MQ2008/MQ2008/Fold1/train.txt                                \b\b\b\b  2%\b\b\b\b  3%\b\b\b\b  4%\b\b\b\b  5%\b\b\b\b  6%\b\b\b\b  7%\b\b\b\b  8%\b\b\b\b\b  OK \n",
            "Extracting  MQ2008/MQ2008/Fold1/vali.txt                                 \b\b\b\b  9%\b\b\b\b 10%\b\b\b\b\b  OK \n",
            "Creating    MQ2008/MQ2008/Fold2                                       OK\n",
            "Extracting  MQ2008/MQ2008/Fold2/test.txt                                 \b\b\b\b 10%\b\b\b\b 11%\b\b\b\b 12%\b\b\b\b\b  OK \n",
            "Extracting  MQ2008/MQ2008/Fold2/train.txt                                \b\b\b\b 12%\b\b\b\b 13%\b\b\b\b 14%\b\b\b\b 15%\b\b\b\b 16%\b\b\b\b 17%\b\b\b\b 18%\b\b\b\b 19%\b\b\b\b\b  OK \n",
            "Extracting  MQ2008/MQ2008/Fold2/vali.txt                                 \b\b\b\b 19%\b\b\b\b 20%\b\b\b\b 21%\b\b\b\b\b  OK \n",
            "Creating    MQ2008/MQ2008/Fold3                                       OK\n",
            "Extracting  MQ2008/MQ2008/Fold3/test.txt                                 \b\b\b\b 21%\b\b\b\b 22%\b\b\b\b 23%\b\b\b\b\b  OK \n",
            "Extracting  MQ2008/MQ2008/Fold3/train.txt                                \b\b\b\b 24%\b\b\b\b 25%\b\b\b\b 26%\b\b\b\b 27%\b\b\b\b 28%\b\b\b\b 29%\b\b\b\b 30%\b\b\b\b\b  OK \n",
            "Extracting  MQ2008/MQ2008/Fold3/vali.txt                                 \b\b\b\b 30%\b\b\b\b 31%\b\b\b\b 32%\b\b\b\b\b  OK \n",
            "Creating    MQ2008/MQ2008/Fold4                                       OK\n",
            "Extracting  MQ2008/MQ2008/Fold4/test.txt                                 \b\b\b\b 32%\b\b\b\b 33%\b\b\b\b 34%\b\b\b\b\b  OK \n",
            "Extracting  MQ2008/MQ2008/Fold4/train.txt                                \b\b\b\b 34%\b\b\b\b 35%\b\b\b\b 36%\b\b\b\b 37%\b\b\b\b 38%\b\b\b\b 39%\b\b\b\b 40%\b\b\b\b\b  OK \n",
            "Extracting  MQ2008/MQ2008/Fold4/vali.txt                                 \b\b\b\b 40%\b\b\b\b 41%\b\b\b\b 42%\b\b\b\b\b  OK \n",
            "Creating    MQ2008/MQ2008/Fold5                                       OK\n",
            "Extracting  MQ2008/MQ2008/Fold5/test.txt                                 \b\b\b\b 43%\b\b\b\b 44%\b\b\b\b\b  OK \n",
            "Extracting  MQ2008/MQ2008/Fold5/train.txt                                \b\b\b\b 44%\b\b\b\b 45%\b\b\b\b 46%\b\b\b\b 47%\b\b\b\b 48%\b\b\b\b 49%\b\b\b\b 50%\b\b\b\b 51%\b\b\b\b\b  OK \n",
            "Extracting  MQ2008/MQ2008/Fold5/vali.txt                                 \b\b\b\b 51%\b\b\b\b 52%\b\b\b\b 53%\b\b\b\b\b  OK \n",
            "Extracting  MQ2008/MQ2008/min.txt                                        \b\b\b\b 53%\b\b\b\b 54%\b\b\b\b 55%\b\b\b\b 56%\b\b\b\b 57%\b\b\b\b 58%\b\b\b\b 59%\b\b\b\b 60%\b\b\b\b 61%\b\b\b\b 62%\b\b\b\b 63%\b\b\b\b 64%\b\b\b\b 65%\b\b\b\b 66%\b\b\b\b\b  OK \n",
            "Extracting  MQ2008/MQ2008/NULL.txt                                       \b\b\b\b 66%\b\b\b\b 67%\b\b\b\b 68%\b\b\b\b 69%\b\b\b\b 70%\b\b\b\b 71%\b\b\b\b 72%\b\b\b\b 73%\b\b\b\b 74%\b\b\b\b 75%\b\b\b\b 76%\b\b\b\b 77%\b\b\b\b 78%\b\b\b\b\b  OK \n",
            "Extracting  MQ2008/MQ2008/Querylevelnorm.txt                             \b\b\b\b 78%\b\b\b\b 79%\b\b\b\b 80%\b\b\b\b 81%\b\b\b\b 82%\b\b\b\b 83%\b\b\b\b 84%\b\b\b\b 85%\b\b\b\b 86%\b\b\b\b 87%\b\b\b\b 88%\b\b\b\b 89%\b\b\b\b\b  OK \n",
            "Extracting  MQ2008/MQ2008/readme.txt                                     \b\b\b\b 89%\b\b\b\b\b  OK \n",
            "Extracting  MQ2008/MQ2008/S1.txt                                         \b\b\b\b 89%\b\b\b\b 90%\b\b\b\b 91%\b\b\b\b\b  OK \n",
            "Extracting  MQ2008/MQ2008/S2.txt                                         \b\b\b\b 91%\b\b\b\b 92%\b\b\b\b 93%\b\b\b\b\b  OK \n",
            "Extracting  MQ2008/MQ2008/S3.txt                                         \b\b\b\b 94%\b\b\b\b 95%\b\b\b\b 96%\b\b\b\b\b  OK \n",
            "Extracting  MQ2008/MQ2008/S4.txt                                         \b\b\b\b 96%\b\b\b\b 97%\b\b\b\b\b  OK \n",
            "Extracting  MQ2008/MQ2008/S5.txt                                         \b\b\b\b 98%\b\b\b\b 99%\b\b\b\b\b  OK \n",
            "All OK\n"
          ],
          "name": "stdout"
        }
      ]
    },
    {
      "cell_type": "code",
      "metadata": {
        "colab": {
          "base_uri": "https://localhost:8080/"
        },
        "id": "y5ncoAerfxNX",
        "outputId": "25f30129-b2f6-421a-ed9a-e50894272429"
      },
      "source": [
        "# Ranking dengan LGBMRanker\n",
        "!python \"/content/drive/MyDrive/ColabNotebooks/stbi/proyek/rank_sklearn.py\""
      ],
      "execution_count": 3,
      "outputs": [
        {
          "output_type": "stream",
          "text": [
            "[LightGBM] [Warning] min_sum_hessian_in_leaf is set=100, min_child_weight=0.001 will be ignored. Current value: min_sum_hessian_in_leaf=100\n",
            "[LightGBM] [Warning] min_data_in_leaf is set=1, min_child_samples=20 will be ignored. Current value: min_data_in_leaf=1\n",
            "Training until validation scores don't improve for 50 rounds.\n",
            "[10]\tvalid_0's ndcg@1: 0.66453\tvalid_0's ndcg@3: 0.732319\tvalid_0's ndcg@5: 0.767297\tvalid_0's ndcg@10: 0.804666\n",
            "[20]\tvalid_0's ndcg@1: 0.692308\tvalid_0's ndcg@3: 0.734934\tvalid_0's ndcg@5: 0.772151\tvalid_0's ndcg@10: 0.810205\n",
            "[30]\tvalid_0's ndcg@1: 0.698718\tvalid_0's ndcg@3: 0.724146\tvalid_0's ndcg@5: 0.759084\tvalid_0's ndcg@10: 0.811067\n",
            "[40]\tvalid_0's ndcg@1: 0.702991\tvalid_0's ndcg@3: 0.729033\tvalid_0's ndcg@5: 0.766431\tvalid_0's ndcg@10: 0.812224\n",
            "[50]\tvalid_0's ndcg@1: 0.66453\tvalid_0's ndcg@3: 0.722559\tvalid_0's ndcg@5: 0.755629\tvalid_0's ndcg@10: 0.801629\n",
            "Early stopping, best iteration is:\n",
            "[4]\tvalid_0's ndcg@1: 0.679487\tvalid_0's ndcg@3: 0.738718\tvalid_0's ndcg@5: 0.770269\tvalid_0's ndcg@10: 0.803714\n"
          ],
          "name": "stdout"
        }
      ]
    },
    {
      "cell_type": "markdown",
      "metadata": {
        "id": "8dYzDSmY6b9s"
      },
      "source": [
        "**Test Fold 3**"
      ]
    },
    {
      "cell_type": "code",
      "metadata": {
        "colab": {
          "base_uri": "https://localhost:8080/"
        },
        "id": "GQ8BlezfuVdL",
        "outputId": "fbf95dd3-207e-40ba-a078-2b8722f62508"
      },
      "source": [
        "# Load dataset Fold 3 dan transformasi data\n",
        "!sh /content/drive/MyDrive/ColabNotebooks/stbi/proyek/dataset/dataset-fold3.sh"
      ],
      "execution_count": 3,
      "outputs": [
        {
          "output_type": "stream",
          "text": [
            "Downloading data.\n",
            "--2021-05-19 17:17:43--  http://www.bigdatalab.ac.cn/benchmark/upload/download_source/edb7cbe2-9d73-11e4-aa78-bcaec51b9163_MQ2008.rar\n",
            "Resolving www.bigdatalab.ac.cn (www.bigdatalab.ac.cn)... 159.226.40.238\n",
            "Connecting to www.bigdatalab.ac.cn (www.bigdatalab.ac.cn)|159.226.40.238|:80... connected.\n",
            "HTTP request sent, awaiting response... 200 OK\n",
            "Length: 15476826 (15M) [application/x-rar-compressed]\n",
            "Saving to: ‘edb7cbe2-9d73-11e4-aa78-bcaec51b9163_MQ2008.rar’\n",
            "\n",
            "edb7cbe2-9d73-11e4- 100%[===================>]  14.76M   274KB/s    in 56s     \n",
            "\n",
            "2021-05-19 17:18:40 (269 KB/s) - ‘edb7cbe2-9d73-11e4-aa78-bcaec51b9163_MQ2008.rar’ saved [15476826/15476826]\n",
            "\n",
            "\n",
            "UNRAR 5.50 freeware      Copyright (c) 1993-2017 Alexander Roshal\n",
            "\n",
            "\n",
            "Extracting from edb7cbe2-9d73-11e4-aa78-bcaec51b9163_MQ2008.rar\n",
            "\n",
            "Creating    MQ2008                                                    OK\n",
            "Creating    MQ2008/MQ2008                                             OK\n",
            "Creating    MQ2008/MQ2008/Fold1                                       OK\n",
            "Extracting  MQ2008/MQ2008/Fold1/test.txt                                 \b\b\b\b  0%\b\b\b\b  1%\b\b\b\b  2%\b\b\b\b\b  OK \n",
            "Extracting  MQ2008/MQ2008/Fold1/train.txt                                \b\b\b\b  2%\b\b\b\b  3%\b\b\b\b  4%\b\b\b\b  5%\b\b\b\b  6%\b\b\b\b  7%\b\b\b\b  8%\b\b\b\b\b  OK \n",
            "Extracting  MQ2008/MQ2008/Fold1/vali.txt                                 \b\b\b\b  9%\b\b\b\b 10%\b\b\b\b\b  OK \n",
            "Creating    MQ2008/MQ2008/Fold2                                       OK\n",
            "Extracting  MQ2008/MQ2008/Fold2/test.txt                                 \b\b\b\b 10%\b\b\b\b 11%\b\b\b\b 12%\b\b\b\b\b  OK \n",
            "Extracting  MQ2008/MQ2008/Fold2/train.txt                                \b\b\b\b 12%\b\b\b\b 13%\b\b\b\b 14%\b\b\b\b 15%\b\b\b\b 16%\b\b\b\b 17%\b\b\b\b 18%\b\b\b\b 19%\b\b\b\b\b  OK \n",
            "Extracting  MQ2008/MQ2008/Fold2/vali.txt                                 \b\b\b\b 19%\b\b\b\b 20%\b\b\b\b 21%\b\b\b\b\b  OK \n",
            "Creating    MQ2008/MQ2008/Fold3                                       OK\n",
            "Extracting  MQ2008/MQ2008/Fold3/test.txt                                 \b\b\b\b 21%\b\b\b\b 22%\b\b\b\b 23%\b\b\b\b\b  OK \n",
            "Extracting  MQ2008/MQ2008/Fold3/train.txt                                \b\b\b\b 24%\b\b\b\b 25%\b\b\b\b 26%\b\b\b\b 27%\b\b\b\b 28%\b\b\b\b 29%\b\b\b\b 30%\b\b\b\b\b  OK \n",
            "Extracting  MQ2008/MQ2008/Fold3/vali.txt                                 \b\b\b\b 30%\b\b\b\b 31%\b\b\b\b 32%\b\b\b\b\b  OK \n",
            "Creating    MQ2008/MQ2008/Fold4                                       OK\n",
            "Extracting  MQ2008/MQ2008/Fold4/test.txt                                 \b\b\b\b 32%\b\b\b\b 33%\b\b\b\b 34%\b\b\b\b\b  OK \n",
            "Extracting  MQ2008/MQ2008/Fold4/train.txt                                \b\b\b\b 34%\b\b\b\b 35%\b\b\b\b 36%\b\b\b\b 37%\b\b\b\b 38%\b\b\b\b 39%\b\b\b\b 40%\b\b\b\b\b  OK \n",
            "Extracting  MQ2008/MQ2008/Fold4/vali.txt                                 \b\b\b\b 40%\b\b\b\b 41%\b\b\b\b 42%\b\b\b\b\b  OK \n",
            "Creating    MQ2008/MQ2008/Fold5                                       OK\n",
            "Extracting  MQ2008/MQ2008/Fold5/test.txt                                 \b\b\b\b 43%\b\b\b\b 44%\b\b\b\b\b  OK \n",
            "Extracting  MQ2008/MQ2008/Fold5/train.txt                                \b\b\b\b 44%\b\b\b\b 45%\b\b\b\b 46%\b\b\b\b 47%\b\b\b\b 48%\b\b\b\b 49%\b\b\b\b 50%\b\b\b\b 51%\b\b\b\b\b  OK \n",
            "Extracting  MQ2008/MQ2008/Fold5/vali.txt                                 \b\b\b\b 51%\b\b\b\b 52%\b\b\b\b 53%\b\b\b\b\b  OK \n",
            "Extracting  MQ2008/MQ2008/min.txt                                        \b\b\b\b 53%\b\b\b\b 54%\b\b\b\b 55%\b\b\b\b 56%\b\b\b\b 57%\b\b\b\b 58%\b\b\b\b 59%\b\b\b\b 60%\b\b\b\b 61%\b\b\b\b 62%\b\b\b\b 63%\b\b\b\b 64%\b\b\b\b 65%\b\b\b\b 66%\b\b\b\b\b  OK \n",
            "Extracting  MQ2008/MQ2008/NULL.txt                                       \b\b\b\b 66%\b\b\b\b 67%\b\b\b\b 68%\b\b\b\b 69%\b\b\b\b 70%\b\b\b\b 71%\b\b\b\b 72%\b\b\b\b 73%\b\b\b\b 74%\b\b\b\b 75%\b\b\b\b 76%\b\b\b\b 77%\b\b\b\b 78%\b\b\b\b\b  OK \n",
            "Extracting  MQ2008/MQ2008/Querylevelnorm.txt                             \b\b\b\b 78%\b\b\b\b 79%\b\b\b\b 80%\b\b\b\b 81%\b\b\b\b 82%\b\b\b\b 83%\b\b\b\b 84%\b\b\b\b 85%\b\b\b\b 86%\b\b\b\b 87%\b\b\b\b 88%\b\b\b\b 89%\b\b\b\b\b  OK \n",
            "Extracting  MQ2008/MQ2008/readme.txt                                     \b\b\b\b 89%\b\b\b\b\b  OK \n",
            "Extracting  MQ2008/MQ2008/S1.txt                                         \b\b\b\b 89%\b\b\b\b 90%\b\b\b\b 91%\b\b\b\b\b  OK \n",
            "Extracting  MQ2008/MQ2008/S2.txt                                         \b\b\b\b 91%\b\b\b\b 92%\b\b\b\b 93%\b\b\b\b\b  OK \n",
            "Extracting  MQ2008/MQ2008/S3.txt                                         \b\b\b\b 94%\b\b\b\b 95%\b\b\b\b 96%\b\b\b\b\b  OK \n",
            "Extracting  MQ2008/MQ2008/S4.txt                                         \b\b\b\b 96%\b\b\b\b 97%\b\b\b\b\b  OK \n",
            "Extracting  MQ2008/MQ2008/S5.txt                                         \b\b\b\b 98%\b\b\b\b 99%\b\b\b\b\b  OK \n",
            "All OK\n"
          ],
          "name": "stdout"
        }
      ]
    },
    {
      "cell_type": "code",
      "metadata": {
        "colab": {
          "base_uri": "https://localhost:8080/"
        },
        "id": "3M1f_YzpuXsO",
        "outputId": "ea15318b-4b97-4031-b631-10e460de2c78"
      },
      "source": [
        "# Ranking dengan LGBMRanker\n",
        "!python \"/content/drive/MyDrive/ColabNotebooks/stbi/proyek/rank_sklearn.py\""
      ],
      "execution_count": 4,
      "outputs": [
        {
          "output_type": "stream",
          "text": [
            "[LightGBM] [Warning] min_sum_hessian_in_leaf is set=100, min_child_weight=0.001 will be ignored. Current value: min_sum_hessian_in_leaf=100\n",
            "[LightGBM] [Warning] min_data_in_leaf is set=1, min_child_samples=20 will be ignored. Current value: min_data_in_leaf=1\n",
            "Training until validation scores don't improve for 50 rounds.\n",
            "[10]\tvalid_0's ndcg@1: 0.656051\tvalid_0's ndcg@3: 0.69814\tvalid_0's ndcg@5: 0.731994\tvalid_0's ndcg@10: 0.777406\n",
            "[20]\tvalid_0's ndcg@1: 0.643312\tvalid_0's ndcg@3: 0.699985\tvalid_0's ndcg@5: 0.729004\tvalid_0's ndcg@10: 0.774124\n",
            "[30]\tvalid_0's ndcg@1: 0.664544\tvalid_0's ndcg@3: 0.698549\tvalid_0's ndcg@5: 0.729896\tvalid_0's ndcg@10: 0.777175\n",
            "[40]\tvalid_0's ndcg@1: 0.675159\tvalid_0's ndcg@3: 0.702543\tvalid_0's ndcg@5: 0.728458\tvalid_0's ndcg@10: 0.775714\n",
            "[50]\tvalid_0's ndcg@1: 0.666667\tvalid_0's ndcg@3: 0.698115\tvalid_0's ndcg@5: 0.72605\tvalid_0's ndcg@10: 0.771789\n",
            "Early stopping, best iteration is:\n",
            "[5]\tvalid_0's ndcg@1: 0.675159\tvalid_0's ndcg@3: 0.700883\tvalid_0's ndcg@5: 0.736809\tvalid_0's ndcg@10: 0.778698\n"
          ],
          "name": "stdout"
        }
      ]
    },
    {
      "cell_type": "markdown",
      "metadata": {
        "id": "0v723rR-6qv6"
      },
      "source": [
        "**Test Fold 4**"
      ]
    },
    {
      "cell_type": "code",
      "metadata": {
        "colab": {
          "base_uri": "https://localhost:8080/"
        },
        "id": "_t-L3k8gube8",
        "outputId": "e75fab70-c811-4b27-c3ea-470ca29a8feb"
      },
      "source": [
        "# Load dataset Fold 4 dan transformasi data\n",
        "!sh /content/drive/MyDrive/ColabNotebooks/stbi/proyek/dataset/dataset-fold4.sh"
      ],
      "execution_count": 2,
      "outputs": [
        {
          "output_type": "stream",
          "text": [
            "Downloading data.\n",
            "--2021-05-19 16:20:44--  http://www.bigdatalab.ac.cn/benchmark/upload/download_source/edb7cbe2-9d73-11e4-aa78-bcaec51b9163_MQ2008.rar\n",
            "Resolving www.bigdatalab.ac.cn (www.bigdatalab.ac.cn)... 159.226.40.238\n",
            "Connecting to www.bigdatalab.ac.cn (www.bigdatalab.ac.cn)|159.226.40.238|:80... connected.\n",
            "HTTP request sent, awaiting response... 200 OK\n",
            "Length: 15476826 (15M) [application/x-rar-compressed]\n",
            "Saving to: ‘edb7cbe2-9d73-11e4-aa78-bcaec51b9163_MQ2008.rar’\n",
            "\n",
            "edb7cbe2-9d73-11e4- 100%[===================>]  14.76M   280KB/s    in 56s     \n",
            "\n",
            "2021-05-19 16:21:41 (270 KB/s) - ‘edb7cbe2-9d73-11e4-aa78-bcaec51b9163_MQ2008.rar’ saved [15476826/15476826]\n",
            "\n",
            "\n",
            "UNRAR 5.50 freeware      Copyright (c) 1993-2017 Alexander Roshal\n",
            "\n",
            "\n",
            "Extracting from edb7cbe2-9d73-11e4-aa78-bcaec51b9163_MQ2008.rar\n",
            "\n",
            "Creating    MQ2008                                                    OK\n",
            "Creating    MQ2008/MQ2008                                             OK\n",
            "Creating    MQ2008/MQ2008/Fold1                                       OK\n",
            "Extracting  MQ2008/MQ2008/Fold1/test.txt                                 \b\b\b\b  0%\b\b\b\b  1%\b\b\b\b  2%\b\b\b\b\b  OK \n",
            "Extracting  MQ2008/MQ2008/Fold1/train.txt                                \b\b\b\b  2%\b\b\b\b  3%\b\b\b\b  4%\b\b\b\b  5%\b\b\b\b  6%\b\b\b\b  7%\b\b\b\b  8%\b\b\b\b\b  OK \n",
            "Extracting  MQ2008/MQ2008/Fold1/vali.txt                                 \b\b\b\b  9%\b\b\b\b 10%\b\b\b\b\b  OK \n",
            "Creating    MQ2008/MQ2008/Fold2                                       OK\n",
            "Extracting  MQ2008/MQ2008/Fold2/test.txt                                 \b\b\b\b 10%\b\b\b\b 11%\b\b\b\b 12%\b\b\b\b\b  OK \n",
            "Extracting  MQ2008/MQ2008/Fold2/train.txt                                \b\b\b\b 12%\b\b\b\b 13%\b\b\b\b 14%\b\b\b\b 15%\b\b\b\b 16%\b\b\b\b 17%\b\b\b\b 18%\b\b\b\b 19%\b\b\b\b\b  OK \n",
            "Extracting  MQ2008/MQ2008/Fold2/vali.txt                                 \b\b\b\b 19%\b\b\b\b 20%\b\b\b\b 21%\b\b\b\b\b  OK \n",
            "Creating    MQ2008/MQ2008/Fold3                                       OK\n",
            "Extracting  MQ2008/MQ2008/Fold3/test.txt                                 \b\b\b\b 21%\b\b\b\b 22%\b\b\b\b 23%\b\b\b\b\b  OK \n",
            "Extracting  MQ2008/MQ2008/Fold3/train.txt                                \b\b\b\b 24%\b\b\b\b 25%\b\b\b\b 26%\b\b\b\b 27%\b\b\b\b 28%\b\b\b\b 29%\b\b\b\b 30%\b\b\b\b\b  OK \n",
            "Extracting  MQ2008/MQ2008/Fold3/vali.txt                                 \b\b\b\b 30%\b\b\b\b 31%\b\b\b\b 32%\b\b\b\b\b  OK \n",
            "Creating    MQ2008/MQ2008/Fold4                                       OK\n",
            "Extracting  MQ2008/MQ2008/Fold4/test.txt                                 \b\b\b\b 32%\b\b\b\b 33%\b\b\b\b 34%\b\b\b\b\b  OK \n",
            "Extracting  MQ2008/MQ2008/Fold4/train.txt                                \b\b\b\b 34%\b\b\b\b 35%\b\b\b\b 36%\b\b\b\b 37%\b\b\b\b 38%\b\b\b\b 39%\b\b\b\b 40%\b\b\b\b\b  OK \n",
            "Extracting  MQ2008/MQ2008/Fold4/vali.txt                                 \b\b\b\b 40%\b\b\b\b 41%\b\b\b\b 42%\b\b\b\b\b  OK \n",
            "Creating    MQ2008/MQ2008/Fold5                                       OK\n",
            "Extracting  MQ2008/MQ2008/Fold5/test.txt                                 \b\b\b\b 43%\b\b\b\b 44%\b\b\b\b\b  OK \n",
            "Extracting  MQ2008/MQ2008/Fold5/train.txt                                \b\b\b\b 44%\b\b\b\b 45%\b\b\b\b 46%\b\b\b\b 47%\b\b\b\b 48%\b\b\b\b 49%\b\b\b\b 50%\b\b\b\b 51%\b\b\b\b\b  OK \n",
            "Extracting  MQ2008/MQ2008/Fold5/vali.txt                                 \b\b\b\b 51%\b\b\b\b 52%\b\b\b\b 53%\b\b\b\b\b  OK \n",
            "Extracting  MQ2008/MQ2008/min.txt                                        \b\b\b\b 53%\b\b\b\b 54%\b\b\b\b 55%\b\b\b\b 56%\b\b\b\b 57%\b\b\b\b 58%\b\b\b\b 59%\b\b\b\b 60%\b\b\b\b 61%\b\b\b\b 62%\b\b\b\b 63%\b\b\b\b 64%\b\b\b\b 65%\b\b\b\b 66%\b\b\b\b\b  OK \n",
            "Extracting  MQ2008/MQ2008/NULL.txt                                       \b\b\b\b 66%\b\b\b\b 67%\b\b\b\b 68%\b\b\b\b 69%\b\b\b\b 70%\b\b\b\b 71%\b\b\b\b 72%\b\b\b\b 73%\b\b\b\b 74%\b\b\b\b 75%\b\b\b\b 76%\b\b\b\b 77%\b\b\b\b 78%\b\b\b\b\b  OK \n",
            "Extracting  MQ2008/MQ2008/Querylevelnorm.txt                             \b\b\b\b 78%\b\b\b\b 79%\b\b\b\b 80%\b\b\b\b 81%\b\b\b\b 82%\b\b\b\b 83%\b\b\b\b 84%\b\b\b\b 85%\b\b\b\b 86%\b\b\b\b 87%\b\b\b\b 88%\b\b\b\b 89%\b\b\b\b\b  OK \n",
            "Extracting  MQ2008/MQ2008/readme.txt                                     \b\b\b\b 89%\b\b\b\b\b  OK \n",
            "Extracting  MQ2008/MQ2008/S1.txt                                         \b\b\b\b 89%\b\b\b\b 90%\b\b\b\b 91%\b\b\b\b\b  OK \n",
            "Extracting  MQ2008/MQ2008/S2.txt                                         \b\b\b\b 91%\b\b\b\b 92%\b\b\b\b 93%\b\b\b\b\b  OK \n",
            "Extracting  MQ2008/MQ2008/S3.txt                                         \b\b\b\b 94%\b\b\b\b 95%\b\b\b\b 96%\b\b\b\b\b  OK \n",
            "Extracting  MQ2008/MQ2008/S4.txt                                         \b\b\b\b 96%\b\b\b\b 97%\b\b\b\b\b  OK \n",
            "Extracting  MQ2008/MQ2008/S5.txt                                         \b\b\b\b 98%\b\b\b\b 99%\b\b\b\b\b  OK \n",
            "All OK\n"
          ],
          "name": "stdout"
        }
      ]
    },
    {
      "cell_type": "code",
      "metadata": {
        "colab": {
          "base_uri": "https://localhost:8080/"
        },
        "id": "ebZaT6o86u_P",
        "outputId": "c439283d-0312-48dd-864a-f561abd3056b"
      },
      "source": [
        "# Ranking dengan LGBMRanker\n",
        "!python \"/content/drive/MyDrive/ColabNotebooks/stbi/proyek/rank_sklearn.py\""
      ],
      "execution_count": 3,
      "outputs": [
        {
          "output_type": "stream",
          "text": [
            "[LightGBM] [Warning] min_sum_hessian_in_leaf is set=100, min_child_weight=0.001 will be ignored. Current value: min_sum_hessian_in_leaf=100\n",
            "[LightGBM] [Warning] min_data_in_leaf is set=1, min_child_samples=20 will be ignored. Current value: min_data_in_leaf=1\n",
            "Training until validation scores don't improve for 50 rounds.\n",
            "[10]\tvalid_0's ndcg@1: 0.62845\tvalid_0's ndcg@3: 0.664332\tvalid_0's ndcg@5: 0.707895\tvalid_0's ndcg@10: 0.756736\n",
            "[20]\tvalid_0's ndcg@1: 0.643312\tvalid_0's ndcg@3: 0.66144\tvalid_0's ndcg@5: 0.711292\tvalid_0's ndcg@10: 0.757224\n",
            "[30]\tvalid_0's ndcg@1: 0.649682\tvalid_0's ndcg@3: 0.664276\tvalid_0's ndcg@5: 0.706407\tvalid_0's ndcg@10: 0.757292\n",
            "[40]\tvalid_0's ndcg@1: 0.653928\tvalid_0's ndcg@3: 0.655473\tvalid_0's ndcg@5: 0.700287\tvalid_0's ndcg@10: 0.752406\n",
            "[50]\tvalid_0's ndcg@1: 0.649682\tvalid_0's ndcg@3: 0.653301\tvalid_0's ndcg@5: 0.696951\tvalid_0's ndcg@10: 0.755023\n",
            "[60]\tvalid_0's ndcg@1: 0.658174\tvalid_0's ndcg@3: 0.654697\tvalid_0's ndcg@5: 0.698947\tvalid_0's ndcg@10: 0.753394\n",
            "[70]\tvalid_0's ndcg@1: 0.641189\tvalid_0's ndcg@3: 0.645936\tvalid_0's ndcg@5: 0.693607\tvalid_0's ndcg@10: 0.745155\n",
            "Early stopping, best iteration is:\n",
            "[25]\tvalid_0's ndcg@1: 0.660297\tvalid_0's ndcg@3: 0.659529\tvalid_0's ndcg@5: 0.710893\tvalid_0's ndcg@10: 0.758665\n"
          ],
          "name": "stdout"
        }
      ]
    },
    {
      "cell_type": "markdown",
      "metadata": {
        "id": "wCk5yDpl7FjD"
      },
      "source": [
        "**Test Fold 5**"
      ]
    },
    {
      "cell_type": "code",
      "metadata": {
        "colab": {
          "base_uri": "https://localhost:8080/"
        },
        "id": "rR2Xwulm7Hv8",
        "outputId": "b849eaf8-c412-4739-b3dd-f7ba8d5dda3d"
      },
      "source": [
        "# Load dataset Fold 5 dan transformasi data\n",
        "!sh /content/drive/MyDrive/ColabNotebooks/stbi/proyek/dataset/dataset-fold5.sh"
      ],
      "execution_count": 4,
      "outputs": [
        {
          "output_type": "stream",
          "text": [
            "Use downloaded data to run experiment.\n"
          ],
          "name": "stdout"
        }
      ]
    },
    {
      "cell_type": "code",
      "metadata": {
        "colab": {
          "base_uri": "https://localhost:8080/"
        },
        "id": "FTmPf2gX7NbE",
        "outputId": "da91a1df-64ff-46e1-db88-cc7f6c372b45"
      },
      "source": [
        "# Ranking dengan LGBMRanker\n",
        "!python \"/content/drive/MyDrive/ColabNotebooks/stbi/proyek/rank_sklearn.py\""
      ],
      "execution_count": 3,
      "outputs": [
        {
          "output_type": "stream",
          "text": [
            "[LightGBM] [Warning] min_sum_hessian_in_leaf is set=100, min_child_weight=0.001 will be ignored. Current value: min_sum_hessian_in_leaf=100\n",
            "[LightGBM] [Warning] min_data_in_leaf is set=1, min_child_samples=20 will be ignored. Current value: min_data_in_leaf=1\n",
            "Training until validation scores don't improve for 50 rounds.\n",
            "[10]\tvalid_0's ndcg@1: 0.613588\tvalid_0's ndcg@3: 0.671805\tvalid_0's ndcg@5: 0.709383\tvalid_0's ndcg@10: 0.760283\n",
            "[20]\tvalid_0's ndcg@1: 0.607219\tvalid_0's ndcg@3: 0.662958\tvalid_0's ndcg@5: 0.707912\tvalid_0's ndcg@10: 0.759752\n",
            "[30]\tvalid_0's ndcg@1: 0.590234\tvalid_0's ndcg@3: 0.652224\tvalid_0's ndcg@5: 0.696774\tvalid_0's ndcg@10: 0.754105\n",
            "[40]\tvalid_0's ndcg@1: 0.59448\tvalid_0's ndcg@3: 0.65791\tvalid_0's ndcg@5: 0.698887\tvalid_0's ndcg@10: 0.755129\n",
            "[50]\tvalid_0's ndcg@1: 0.59448\tvalid_0's ndcg@3: 0.645412\tvalid_0's ndcg@5: 0.689007\tvalid_0's ndcg@10: 0.749916\n",
            "Early stopping, best iteration is:\n",
            "[3]\tvalid_0's ndcg@1: 0.630573\tvalid_0's ndcg@3: 0.681832\tvalid_0's ndcg@5: 0.702157\tvalid_0's ndcg@10: 0.766917\n"
          ],
          "name": "stdout"
        }
      ]
    }
  ]
}